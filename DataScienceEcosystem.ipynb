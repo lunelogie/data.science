{
 "cells": [
  {
   "cell_type": "markdown",
   "id": "abc70651-8fd5-46ef-a0f6-5370108a8ec9",
   "metadata": {},
   "source": [
    "## Author\n",
    "\n",
    "lunelogie\n"
   ]
  },
  {
   "cell_type": "markdown",
   "id": "2799ad39-8162-4e2f-8d67-e8646748b195",
   "metadata": {},
   "source": [
    "In this notebook, Data Science Tools and Ecosystem are summarized.\n"
   ]
  },
  {
   "cell_type": "markdown",
   "id": "7deb81cb-9348-417c-bac6-0f9b86603cc3",
   "metadata": {},
   "source": [
    "**Objectives:**\n",
    "\n",
    "- List popular languages for Data Science.\n",
    "- List popular libraries for Data Science\n",
    "- Understand basic arithmetic expressions in Python.\n",
    "- Convert time units (e.g., minutes to hours).\n",
    "- Explore open-source development environments for Data Science.\n"
   ]
  },
  {
   "cell_type": "markdown",
   "id": "d711ebb1-627c-4af5-8ba3-c5311c93db2b",
   "metadata": {},
   "source": [
    "\n",
    "Some of the popular languages that Data Scientists use are:\n",
    "1. Python\n",
    "2. R\n",
    "3. SQL\n",
    "4. Julia\n",
    "5. MATLAB"
   ]
  },
  {
   "cell_type": "markdown",
   "id": "e93916a1-c829-4d31-b363-e7977b1c97a9",
   "metadata": {},
   "source": [
    "Some of the commonly used libraries used by Data Scientists include:\n",
    "\n",
    "1. ChatGPT\n",
    "2. Pandas\n",
    "3. NumPy\n",
    "4. Matplotlib\n",
    "5. TensorFlow"
   ]
  },
  {
   "cell_type": "markdown",
   "id": "20e3bcdf-9214-4a62-8c90-4de6782cc602",
   "metadata": {},
   "source": [
    "| Data Science Tools  |\n",
    "|---------------------|\n",
    "| Jupyter Notebook    |\n",
    "| RStudio             |\n",
    "| Apache Zeppelin     |\n",
    "\n"
   ]
  },
  {
   "cell_type": "markdown",
   "id": "aeb2e2b3-d4c6-4a9c-bc10-c3b639e4200d",
   "metadata": {},
   "source": [
    "Below are a few examples of evaluating arithmetic expressions in Python.\n",
    "\n",
    "- Addition: `3 + 5`\n",
    "- Subtraction: `10 - 4`\n",
    "- Multiplication: `7 * 6`\n",
    "- Division: `15 / 3`\n",
    "- Exponentiation: `2 ** 3`\n",
    "- Modulus (remainder): `10 % 3`"
   ]
  },
  {
   "cell_type": "code",
   "execution_count": 26,
   "id": "a2358d98-4557-4c82-9a4b-01b0da91060c",
   "metadata": {},
   "outputs": [
    {
     "data": {
      "text/plain": [
       "17"
      ]
     },
     "execution_count": 26,
     "metadata": {},
     "output_type": "execute_result"
    }
   ],
   "source": [
    "(3*4)+5\n",
    "#This a simple arithmetic expression to mutiply then add integers"
   ]
  },
  {
   "cell_type": "code",
   "execution_count": 32,
   "id": "ba4de47b-82cd-4e05-9374-3c4650b5cea1",
   "metadata": {},
   "outputs": [
    {
     "data": {
      "text/plain": [
       "3.3333333333333335"
      ]
     },
     "execution_count": 32,
     "metadata": {},
     "output_type": "execute_result"
    }
   ],
   "source": [
    "#This code will convert 200 minutes to hours by dividing them in 60\n",
    "\n",
    "minutes=200\n",
    "hours=minutes/60\n",
    "hours"
   ]
  },
  {
   "cell_type": "code",
   "execution_count": null,
   "id": "22f49235-1991-4776-ba30-3c654efc945e",
   "metadata": {},
   "outputs": [],
   "source": []
  }
 ],
 "metadata": {
  "kernelspec": {
   "display_name": "Python [conda env:base] *",
   "language": "python",
   "name": "conda-base-py"
  },
  "language_info": {
   "codemirror_mode": {
    "name": "ipython",
    "version": 3
   },
   "file_extension": ".py",
   "mimetype": "text/x-python",
   "name": "python",
   "nbconvert_exporter": "python",
   "pygments_lexer": "ipython3",
   "version": "3.12.7"
  }
 },
 "nbformat": 4,
 "nbformat_minor": 5
}
